{
 "cells": [
  {
   "cell_type": "code",
   "execution_count": 2,
   "id": "5f0093aa-5f41-464e-9e66-79e016351905",
   "metadata": {},
   "outputs": [
    {
     "ename": "NameError",
     "evalue": "name 'np' is not defined",
     "output_type": "error",
     "traceback": [
      "\u001b[1;31m---------------------------------------------------------------------------\u001b[0m",
      "\u001b[1;31mNameError\u001b[0m                                 Traceback (most recent call last)",
      "Cell \u001b[1;32mIn[2], line 1\u001b[0m\n\u001b[1;32m----> 1\u001b[0m L \u001b[38;5;241m=\u001b[39m \u001b[43mnp\u001b[49m\u001b[38;5;241m.\u001b[39mzeros(n_steps \u001b[38;5;241m+\u001b[39m \u001b[38;5;241m1\u001b[39m)\n\u001b[0;32m      2\u001b[0m Clh \u001b[38;5;241m=\u001b[39m np\u001b[38;5;241m.\u001b[39mzeros(n_steps \u001b[38;5;241m+\u001b[39m \u001b[38;5;241m1\u001b[39m)\n\u001b[0;32m      3\u001b[0m Cst \u001b[38;5;241m=\u001b[39m np\u001b[38;5;241m.\u001b[39mzeros(n_steps \u001b[38;5;241m+\u001b[39m \u001b[38;5;241m1\u001b[39m)\n",
      "\u001b[1;31mNameError\u001b[0m: name 'np' is not defined"
     ]
    }
   ],
   "source": [
    "import numpy as np\n",
    "from matplotlib.pylab import *"
   ]
  },
  {
   "cell_type": "code",
   "execution_count": null,
   "id": "68b30280-fe06-4dd2-8658-245fc861fffc",
   "metadata": {},
   "outputs": [],
   "source": [
    "\n",
    "\n",
    "# Parâmetros do modelo\n",
    "A, B, C, M, N, D, K, G, T = [1.3, 0.008, 0.0001, 1.1, 0.007, 0.003, 0.0015, 0.2, 0.2]\n",
    "# Condições iniciais\n",
    "# populações iniciais\n",
    "L0=53\n",
    "Clh0=67\n",
    "Cst0 =75\n",
    "T_total = 100# tempo total de simulação\n",
    "n_steps = 10000 # número de passos"
   ]
  },
  {
   "cell_type": "code",
   "execution_count": 1,
   "id": "c68ebea7-a944-486a-95be-a2bcff28be33",
   "metadata": {},
   "outputs": [],
   "source": [
    "def f1(L, Clh, Cst):  # para a presa Coelho e Competidor do Castor dClh/dt\n",
    "    return (A * Clh) - (B * Clh * L)  - (C * Clh * Cst)\n",
    "    #A = a taxa de crescimento dos Coelhos na ausência de predadores;\n",
    "    #B = a taxa de predação do Coelho pelo Lobo;\n",
    "    #C = a taxa de competição por recursos do Coelho com o Castor; \n",
    "def f2(L, Clh, Cst):  # para a presa Castor e Competidor do Coelho dCst/dt\n",
    "    return (M * Cst) - (N * Cst * L) - (C * Clh * Cst)\n",
    "    #M = a taxa de crescimento dos Castores na ausência de predadores;\n",
    "    #N = a taxa de predação do Castor pelo Lobo;\n",
    "    #C = a taxa de competição por recursos do Coelho com o Castor;\n",
    "def f3(L, Clh, Cst):  # para a Lobo dL/dt\n",
    "    return ((D * L * Clh) + (K * L * Cst)) - (G * L) - (T * L)\n",
    "    #D = a eficiência de conversão dos Coelhos em novos Lobos\n",
    "    #K = a eficiência de conversão dos Castores em novos lobos\n",
    "    #G = a taxa de mortalidade do Lobo na ausência de Coelhos\n"
   ]
  },
  {
   "cell_type": "code",
   "execution_count": null,
   "id": "106d1775-a5ea-4b44-b26c-ed03cfd88f0d",
   "metadata": {},
   "outputs": [],
   "source": [
    "L = np.zeros(n_steps + 1)\n",
    "Clh = np.zeros(n_steps + 1)\n",
    "Cst = np.zeros(n_steps + 1)\n",
    "L[0], Clh[0], Cst[0] = L0, Clh0, Cst0\n",
    "\n",
    "# Simulação usando método de Euler\n",
    "dt = T_total / n_steps\n",
    "for k in range(n_steps):\n",
    "    L[k+1] = max(0, L[k] + dt * f3(L[k], Clh[k], Cst[k]))\n",
    "    Clh[k+1] = max(0, Clh[k] + dt * f1(L[k], Clh[k], Cst[k]))\n",
    "    Cst[k+1] = max(0, Cst[k] + dt * f2(L[k], Clh[k], Cst[k]))"
   ]
  },
  {
   "cell_type": "code",
   "execution_count": null,
   "id": "29415460-d68b-47f7-b756-f1709bb6cd9d",
   "metadata": {},
   "outputs": [],
   "source": [
    "plt.plot(np.linspace(0, T_total, n_steps + 1), Clh, label='Coelhos')\n",
    "plt.xlabel('Tempo')\n",
    "plt.ylabel('População')\n",
    "plt.title('Modelo de Presa-Predador com Competição')\n",
    "plt.legend()\n",
    "plt.grid(True)\n",
    "plt.show()"
   ]
  },
  {
   "cell_type": "code",
   "execution_count": null,
   "id": "d5cceb54-8484-413a-930a-9527697b7dc1",
   "metadata": {},
   "outputs": [],
   "source": [
    "plt.plot(np.linspace(0, T_total, n_steps + 1), Cst, label='Castores')\n",
    "plt.xlabel('Tempo')\n",
    "plt.ylabel('População')\n",
    "plt.title('Modelo de Presa-Predador com Competição')\n",
    "plt.legend()\n",
    "plt.grid(True)\n",
    "plt.show()"
   ]
  },
  {
   "cell_type": "code",
   "execution_count": null,
   "id": "ea7489eb-4872-4151-8c9b-771131bb5bde",
   "metadata": {},
   "outputs": [],
   "source": [
    "plt.plot(np.linspace(0, T_total, n_steps + 1), L, label='Lobos')\n",
    "plt.xlabel('Tempo')\n",
    "plt.ylabel('População')\n",
    "plt.title('Modelo de Presa-Predador com Competição')\n",
    "plt.legend()\n",
    "plt.grid(True)\n",
    "plt.show()"
   ]
  }
 ],
 "metadata": {
  "kernelspec": {
   "display_name": "Python 3 (ipykernel)",
   "language": "python",
   "name": "python3"
  },
  "language_info": {
   "codemirror_mode": {
    "name": "ipython",
    "version": 3
   },
   "file_extension": ".py",
   "mimetype": "text/x-python",
   "name": "python",
   "nbconvert_exporter": "python",
   "pygments_lexer": "ipython3",
   "version": "3.12.3"
  }
 },
 "nbformat": 4,
 "nbformat_minor": 5
}
